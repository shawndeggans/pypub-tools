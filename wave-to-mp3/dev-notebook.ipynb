{
 "cells": [
  {
   "cell_type": "code",
   "execution_count": null,
   "metadata": {},
   "outputs": [],
   "source": [
    "from os import path\n",
    "from pydub import AudioSegment\n",
    "\n",
    "input_file = 'input/tester.m4a'\n",
    "output_file = 'output/test.wav'\n",
    "\n",
    "sound = AudioSegment.fr(input_file)\n",
    "sound.export(output_file, format='wav')"
   ]
  }
 ],
 "metadata": {
  "interpreter": {
   "hash": "3ea607751f823b6ca37ab1b761fb679f4253bdd6d13b788318f38d18ae00da3e"
  },
  "kernelspec": {
   "display_name": "Python 3.8.10 64-bit ('CompletePython3Bootcamp': conda)",
   "name": "python3"
  },
  "language_info": {
   "codemirror_mode": {
    "name": "ipython",
    "version": 3
   },
   "file_extension": ".py",
   "mimetype": "text/x-python",
   "name": "python",
   "nbconvert_exporter": "python",
   "pygments_lexer": "ipython3",
   "version": "3.8.12"
  },
  "orig_nbformat": 4
 },
 "nbformat": 4,
 "nbformat_minor": 2
}
