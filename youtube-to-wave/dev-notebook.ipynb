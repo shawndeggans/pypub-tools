{
 "cells": [
  {
   "cell_type": "markdown",
   "metadata": {},
   "source": [
    "# Convert YouTube video to audio WAV format"
   ]
  },
  {
   "cell_type": "code",
   "execution_count": null,
   "metadata": {},
   "outputs": [],
   "source": [
    "import sys\n",
    "!conda install -y -c conda-forge ffmpeg libsndfile -p {sys.prefix}\n",
    "!pip install spleeter\n",
    "!pip install azure-cognitiveservices-speech\n",
    "!conda install -y -c conda-forge youtube_dl -p {sys.prefix} \n",
    "!conda install -y -c conda-forge pydub -p {sys.prefix} \n",
    "!conda install -y -c conda-forge python-dotenv -p {sys.prefix}"
   ]
  },
  {
   "cell_type": "code",
   "execution_count": null,
   "metadata": {},
   "outputs": [],
   "source": [
    "\n",
    "import spleeter \n",
    "from __future__ import unicode_literals\n",
    "import youtube_dl \n",
    "from pydub import AudioSegment\n",
    "from pydub.silence import split_on_silence\n",
    "import csv\n",
    "from pathlib import Path\n",
    "from termcolor import colored\n",
    "import os\n",
    "import azure.cognitiveservices.speech as speechsdk\n",
    "from dotenv import load_dotenv\n",
    "load_dotenv()"
   ]
  },
  {
   "cell_type": "code",
   "execution_count": null,
   "metadata": {},
   "outputs": [],
   "source": [
    "audio_file_name = 'st1'\n",
    "youtube_url = 'https://youtu.be/DtsCgfLZnQQ'\n",
    "speech_subscription = os.getenv('SPEECH_SUBSCRIPTION')"
   ]
  },
  {
   "cell_type": "markdown",
   "metadata": {},
   "source": [
    "## Extract and download the audio from YouTube"
   ]
  },
  {
   "cell_type": "code",
   "execution_count": null,
   "metadata": {},
   "outputs": [],
   "source": [
    "def download_clip(url, name):\n",
    "    ydl_opts = {\n",
    "        'format': 'bestaudio/best',\n",
    "        'outtmpl': f'/output/{name}.wav',\n",
    "        'noplaylist': True,\n",
    "        'continue_dl': True,\n",
    "        'postprocessors': [{\n",
    "            'key': 'FFmpegExtractAudio',\n",
    "            'preferredcodec': 'pcm',\n",
    "            'preferredquality': '192', }]\n",
    "    }\n",
    "    try:\n",
    "        with youtube_dl.YoutubeDL(ydl_opts) as ydl:\n",
    "            ydl.cache.remove()\n",
    "            info_dict = ydl.extract_info(url, download=False)\n",
    "            ydl.prepare_filename(info_dict)\n",
    "            ydl.download([url])\n",
    "            return True\n",
    "    except Exception:\n",
    "        return False\n",
    "\n",
    "download_clip(youtube_url, audio_file_name)"
   ]
  },
  {
   "cell_type": "markdown",
   "metadata": {},
   "source": [
    "## Seperate the voice from the audio\n"
   ]
  },
  {
   "cell_type": "code",
   "execution_count": null,
   "metadata": {},
   "outputs": [],
   "source": [
    "# Alter the stem value to split music into multiple tracks and files\n",
    "!spleeter separate -p spleeter:2stems -o output \"output/st1.wav\""
   ]
  },
  {
   "cell_type": "code",
   "execution_count": null,
   "metadata": {},
   "outputs": [],
   "source": [
    "def convert_audio(audio_file):\n",
    "    \"\"\"\n",
    "    Corrects the channels, sample rate, and sample width of the audios.\n",
    "    Replaces the original audio file with the one generated.\n",
    "    AudioSegment.from_wav(fromFile).export(toFile, format=\"wav\", codec=\"pcm_mulaw\", parameters=[\"-ar\",\"8000\"])\n",
    "    \"\"\"\n",
    "    sound = AudioSegment.from_file(audio_file)\n",
    "    sound = sound.set_frame_rate(16000)\n",
    "    sound = sound.set_channels(1)\n",
    "    sound = sound.set_sample_width(2) # 2 corresponds to 16-bit sample width in Pydub\n",
    "    sound.export(audio_file, format =\"wav\", codec=\"pcm_mulaw\", parameters=[\"-ar\",\"8000\", \"-ac\", \"1\"])\n",
    "\n",
    "# adjust the sample rate so that we can extract the text from the audio\n",
    "convert_audio('output/{}/vocals.wav'.format(audio_file_name))"
   ]
  },
  {
   "cell_type": "markdown",
   "metadata": {},
   "source": [
    "## Send the audio to azure speech to text service\n"
   ]
  },
  {
   "cell_type": "code",
   "execution_count": null,
   "metadata": {},
   "outputs": [],
   "source": [
    "def from_file():\n",
    "    speech_config = speechsdk.SpeechConfig(subscription=speech_subscription, region=\"southcentralus\")\n",
    "    audio_input = speechsdk.AudioConfig(filename=\"output/st1/vocals.wav\")\n",
    "    speech_recognizer = speechsdk.SpeechRecognizer(speech_config=speech_config, audio_config=audio_input)\n",
    "    \n",
    "    result = speech_recognizer.recognize_once_async().get()\n",
    "    print(result.text)\n",
    "\n",
    "from_file()"
   ]
  },
  {
   "cell_type": "code",
   "execution_count": null,
   "metadata": {},
   "outputs": [],
   "source": []
  }
 ],
 "metadata": {
  "interpreter": {
   "hash": "63fd5069d213b44bf678585dea6b12cceca9941eaf7f819626cde1f2670de90d"
  },
  "kernelspec": {
   "display_name": "Python 3.9.5 64-bit",
   "language": "python",
   "name": "python3"
  },
  "language_info": {
   "codemirror_mode": {
    "name": "ipython",
    "version": 3
   },
   "file_extension": ".py",
   "mimetype": "text/x-python",
   "name": "python",
   "nbconvert_exporter": "python",
   "pygments_lexer": "ipython3",
   "version": "3.8.12"
  },
  "orig_nbformat": 4
 },
 "nbformat": 4,
 "nbformat_minor": 2
}
